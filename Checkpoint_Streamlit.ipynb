{
  "nbformat": 4,
  "nbformat_minor": 0,
  "metadata": {
    "colab": {
      "name": "Checkpoint - Streamlit",
      "provenance": [],
      "authorship_tag": "ABX9TyNmdFtAHytx7Psfw3dVQHDq",
      "include_colab_link": true
    },
    "kernelspec": {
      "name": "python3",
      "display_name": "Python 3"
    },
    "language_info": {
      "name": "python"
    }
  },
  "cells": [
    {
      "cell_type": "markdown",
      "metadata": {
        "id": "view-in-github",
        "colab_type": "text"
      },
      "source": [
        "<a href=\"https://colab.research.google.com/github/rafabavila/cybersec/blob/main/Checkpoint_Streamlit.ipynb\" target=\"_parent\"><img src=\"https://colab.research.google.com/assets/colab-badge.svg\" alt=\"Open In Colab\"/></a>"
      ]
    },
    {
      "cell_type": "code",
      "execution_count": 1,
      "metadata": {
        "colab": {
          "base_uri": "https://localhost:8080/"
        },
        "id": "QaVVNBNuH5pY",
        "outputId": "1ca59183-f33f-4068-c2a4-e84798b14e4f"
      },
      "outputs": [
        {
          "output_type": "stream",
          "name": "stdout",
          "text": [
            "\u001b[?25l\r\u001b[K     |▍                               | 10 kB 32.9 MB/s eta 0:00:01\r\u001b[K     |▉                               | 20 kB 38.9 MB/s eta 0:00:01\r\u001b[K     |█▎                              | 30 kB 18.1 MB/s eta 0:00:01\r\u001b[K     |█▊                              | 40 kB 8.1 MB/s eta 0:00:01\r\u001b[K     |██▏                             | 51 kB 7.9 MB/s eta 0:00:01\r\u001b[K     |██▋                             | 61 kB 9.3 MB/s eta 0:00:01\r\u001b[K     |███                             | 71 kB 9.8 MB/s eta 0:00:01\r\u001b[K     |███▌                            | 81 kB 8.9 MB/s eta 0:00:01\r\u001b[K     |████                            | 92 kB 9.9 MB/s eta 0:00:01\r\u001b[K     |████▍                           | 102 kB 8.5 MB/s eta 0:00:01\r\u001b[K     |████▉                           | 112 kB 8.5 MB/s eta 0:00:01\r\u001b[K     |█████▎                          | 122 kB 8.5 MB/s eta 0:00:01\r\u001b[K     |█████▊                          | 133 kB 8.5 MB/s eta 0:00:01\r\u001b[K     |██████▏                         | 143 kB 8.5 MB/s eta 0:00:01\r\u001b[K     |██████▋                         | 153 kB 8.5 MB/s eta 0:00:01\r\u001b[K     |███████                         | 163 kB 8.5 MB/s eta 0:00:01\r\u001b[K     |███████▌                        | 174 kB 8.5 MB/s eta 0:00:01\r\u001b[K     |████████                        | 184 kB 8.5 MB/s eta 0:00:01\r\u001b[K     |████████▍                       | 194 kB 8.5 MB/s eta 0:00:01\r\u001b[K     |████████▉                       | 204 kB 8.5 MB/s eta 0:00:01\r\u001b[K     |█████████▎                      | 215 kB 8.5 MB/s eta 0:00:01\r\u001b[K     |█████████▊                      | 225 kB 8.5 MB/s eta 0:00:01\r\u001b[K     |██████████▏                     | 235 kB 8.5 MB/s eta 0:00:01\r\u001b[K     |██████████▌                     | 245 kB 8.5 MB/s eta 0:00:01\r\u001b[K     |███████████                     | 256 kB 8.5 MB/s eta 0:00:01\r\u001b[K     |███████████▍                    | 266 kB 8.5 MB/s eta 0:00:01\r\u001b[K     |███████████▉                    | 276 kB 8.5 MB/s eta 0:00:01\r\u001b[K     |████████████▎                   | 286 kB 8.5 MB/s eta 0:00:01\r\u001b[K     |████████████▊                   | 296 kB 8.5 MB/s eta 0:00:01\r\u001b[K     |█████████████▏                  | 307 kB 8.5 MB/s eta 0:00:01\r\u001b[K     |█████████████▋                  | 317 kB 8.5 MB/s eta 0:00:01\r\u001b[K     |██████████████                  | 327 kB 8.5 MB/s eta 0:00:01\r\u001b[K     |██████████████▌                 | 337 kB 8.5 MB/s eta 0:00:01\r\u001b[K     |███████████████                 | 348 kB 8.5 MB/s eta 0:00:01\r\u001b[K     |███████████████▍                | 358 kB 8.5 MB/s eta 0:00:01\r\u001b[K     |███████████████▉                | 368 kB 8.5 MB/s eta 0:00:01\r\u001b[K     |████████████████▎               | 378 kB 8.5 MB/s eta 0:00:01\r\u001b[K     |████████████████▊               | 389 kB 8.5 MB/s eta 0:00:01\r\u001b[K     |█████████████████▏              | 399 kB 8.5 MB/s eta 0:00:01\r\u001b[K     |█████████████████▋              | 409 kB 8.5 MB/s eta 0:00:01\r\u001b[K     |██████████████████              | 419 kB 8.5 MB/s eta 0:00:01\r\u001b[K     |██████████████████▌             | 430 kB 8.5 MB/s eta 0:00:01\r\u001b[K     |███████████████████             | 440 kB 8.5 MB/s eta 0:00:01\r\u001b[K     |███████████████████▍            | 450 kB 8.5 MB/s eta 0:00:01\r\u001b[K     |███████████████████▉            | 460 kB 8.5 MB/s eta 0:00:01\r\u001b[K     |████████████████████▎           | 471 kB 8.5 MB/s eta 0:00:01\r\u001b[K     |████████████████████▋           | 481 kB 8.5 MB/s eta 0:00:01\r\u001b[K     |█████████████████████           | 491 kB 8.5 MB/s eta 0:00:01\r\u001b[K     |█████████████████████▌          | 501 kB 8.5 MB/s eta 0:00:01\r\u001b[K     |██████████████████████          | 512 kB 8.5 MB/s eta 0:00:01\r\u001b[K     |██████████████████████▍         | 522 kB 8.5 MB/s eta 0:00:01\r\u001b[K     |██████████████████████▉         | 532 kB 8.5 MB/s eta 0:00:01\r\u001b[K     |███████████████████████▎        | 542 kB 8.5 MB/s eta 0:00:01\r\u001b[K     |███████████████████████▊        | 552 kB 8.5 MB/s eta 0:00:01\r\u001b[K     |████████████████████████▏       | 563 kB 8.5 MB/s eta 0:00:01\r\u001b[K     |████████████████████████▋       | 573 kB 8.5 MB/s eta 0:00:01\r\u001b[K     |█████████████████████████       | 583 kB 8.5 MB/s eta 0:00:01\r\u001b[K     |█████████████████████████▌      | 593 kB 8.5 MB/s eta 0:00:01\r\u001b[K     |██████████████████████████      | 604 kB 8.5 MB/s eta 0:00:01\r\u001b[K     |██████████████████████████▍     | 614 kB 8.5 MB/s eta 0:00:01\r\u001b[K     |██████████████████████████▉     | 624 kB 8.5 MB/s eta 0:00:01\r\u001b[K     |███████████████████████████▎    | 634 kB 8.5 MB/s eta 0:00:01\r\u001b[K     |███████████████████████████▊    | 645 kB 8.5 MB/s eta 0:00:01\r\u001b[K     |████████████████████████████▏   | 655 kB 8.5 MB/s eta 0:00:01\r\u001b[K     |████████████████████████████▋   | 665 kB 8.5 MB/s eta 0:00:01\r\u001b[K     |█████████████████████████████   | 675 kB 8.5 MB/s eta 0:00:01\r\u001b[K     |█████████████████████████████▌  | 686 kB 8.5 MB/s eta 0:00:01\r\u001b[K     |██████████████████████████████  | 696 kB 8.5 MB/s eta 0:00:01\r\u001b[K     |██████████████████████████████▍ | 706 kB 8.5 MB/s eta 0:00:01\r\u001b[K     |██████████████████████████████▊ | 716 kB 8.5 MB/s eta 0:00:01\r\u001b[K     |███████████████████████████████▏| 727 kB 8.5 MB/s eta 0:00:01\r\u001b[K     |███████████████████████████████▋| 737 kB 8.5 MB/s eta 0:00:01\r\u001b[K     |████████████████████████████████| 745 kB 8.5 MB/s \n",
            "\u001b[?25h  Building wheel for pyngrok (setup.py) ... \u001b[?25l\u001b[?25hdone\n",
            "\u001b[K     |████████████████████████████████| 10.1 MB 5.9 MB/s \n",
            "\u001b[K     |████████████████████████████████| 111 kB 37.9 MB/s \n",
            "\u001b[K     |████████████████████████████████| 4.3 MB 37.3 MB/s \n",
            "\u001b[K     |████████████████████████████████| 181 kB 55.0 MB/s \n",
            "\u001b[K     |████████████████████████████████| 76 kB 6.5 MB/s \n",
            "\u001b[K     |████████████████████████████████| 164 kB 71.1 MB/s \n",
            "\u001b[K     |████████████████████████████████| 63 kB 2.2 MB/s \n",
            "\u001b[K     |████████████████████████████████| 131 kB 56.6 MB/s \n",
            "\u001b[K     |████████████████████████████████| 793 kB 57.3 MB/s \n",
            "\u001b[K     |████████████████████████████████| 428 kB 80.8 MB/s \n",
            "\u001b[K     |████████████████████████████████| 130 kB 74.5 MB/s \n",
            "\u001b[K     |████████████████████████████████| 381 kB 47.1 MB/s \n",
            "\u001b[?25h  Building wheel for blinker (setup.py) ... \u001b[?25l\u001b[?25hdone\n",
            "\u001b[31mERROR: pip's dependency resolver does not currently take into account all the packages that are installed. This behaviour is the source of the following dependency conflicts.\n",
            "jupyter-console 5.2.0 requires prompt-toolkit<2.0.0,>=1.0.0, but you have prompt-toolkit 3.0.29 which is incompatible.\n",
            "google-colab 1.0.0 requires ipykernel~=4.10, but you have ipykernel 6.13.0 which is incompatible.\n",
            "google-colab 1.0.0 requires ipython~=5.5.0, but you have ipython 7.32.0 which is incompatible.\n",
            "google-colab 1.0.0 requires tornado~=5.1.0; python_version >= \"3.0\", but you have tornado 6.1 which is incompatible.\u001b[0m\n",
            "\u001b[K     |████████████████████████████████| 3.6 MB 8.4 MB/s \n",
            "\u001b[K     |████████████████████████████████| 50 kB 4.5 MB/s \n",
            "\u001b[?25h  Building wheel for python-Levenshtein (setup.py) ... \u001b[?25l\u001b[?25hdone\n"
          ]
        }
      ],
      "source": [
        "!pip install -q pyngrok\n",
        "!pip install -q streamlit\n",
        "!pip install -q streamlit_ace\n",
        "!pip install -q python-Levenshtein\n",
        "!pip install -q fuzzywuzzy\n",
        "!streamlit run app.py &>/dev/null&\n",
        "from pyngrok import ngrok"
      ]
    },
    {
      "cell_type": "code",
      "source": [
        "%%writefile cybercheck.py\n",
        "\n",
        "import streamlit as st\n",
        "import re\n",
        "import requests\n",
        "import fuzzywuzzy\n",
        "from fuzzywuzzy import fuzz\n",
        "from fuzzywuzzy import process\n",
        "\n",
        "numpas = requests.get(\"https://dalcol99.github.io/grc.json\")\n",
        "nompas = requests.get(\"https://cspinheiro.github.io/interpol.json\")\n",
        "\n",
        "dict_num = numpas.json()['grc']\n",
        "dict_nom = nompas.json()['interpol']\n",
        "\n",
        "lisnom = []\n",
        "for idx, sub in enumerate(dict_nom, start = 0):\n",
        "    if idx == 0:\n",
        "        lisnom.append(list(sub.keys()))\n",
        "        lisnom.append(list(sub.values()))\n",
        "    else:\n",
        "        lisnom.append(list(sub.values()))\n",
        "lisnomx = [item for sublist in lisnom for item in sublist]\n",
        "lisnomx.remove('interpol')\n",
        "lisnomf = '(% s)' % ')|('.join(lisnomx)\n",
        " \n",
        "def main():  \n",
        "    html_temp = \"\"\" \n",
        "    <div style =\"background-color:blue;padding:15px\"> \n",
        "    <h1 style =\"color:white;text-align:center;\">Checagem de Imigração</h1> \n",
        "    </div> \n",
        "    \"\"\"\n",
        "\n",
        "    st.markdown(html_temp, unsafe_allow_html = True) \n",
        "      \n",
        "    numpass = st.text_input('Digite o Número do Passaporte - sem as letras iniciais')\n",
        "    nompass = st.text_input('Digite o Nome Completo do indivíduo')\n",
        "    check = st.button('CHECAR')\n",
        "\n",
        "    def checknum(field):\n",
        "      for item in dict_num:\n",
        "\n",
        "          for value in item.values():\n",
        "\n",
        "            if str(field) == str(value):\n",
        "              return st.error('Não pode entrar no país')\n",
        "\n",
        "      return st.success('Pode entrar no país') and st.balloons()\n",
        "\n",
        "    def checkfuzzy(field):\n",
        "      search_list = process.extract(field, lisnomx)\n",
        "      result = []\n",
        "      \n",
        "      for text in search_list: \n",
        "          if text[1] >= 96:\n",
        "            result.append(text)\n",
        "      if len(result) == 0:\n",
        "          return checknum(numpass)\n",
        "      return st.error('Não pode entrar no país')\n",
        "      \n",
        "    def checknom(field):\n",
        "      match = re.search(f'(?i){lisnomf}', field.lower())\n",
        "      if check: \n",
        "        if match:\n",
        "          st.error('Não pode entrar no país')\n",
        "        else:\n",
        "          checkfuzzy(field)\n",
        "\n",
        "    checknom(nompass)\n",
        "\n",
        "if __name__=='__main__': \n",
        "    main()  "
      ],
      "metadata": {
        "colab": {
          "base_uri": "https://localhost:8080/"
        },
        "id": "y4PV1OKw331J",
        "outputId": "50af01a7-0c0a-4254-f913-b4d8a985ee3a"
      },
      "execution_count": 25,
      "outputs": [
        {
          "output_type": "stream",
          "name": "stdout",
          "text": [
            "Overwriting cybercheck.py\n"
          ]
        }
      ]
    },
    {
      "cell_type": "code",
      "source": [
        "!streamlit run cybercheck.py & npx localtunnel --port 8501"
      ],
      "metadata": {
        "colab": {
          "base_uri": "https://localhost:8080/"
        },
        "id": "awlD8bqcMf4B",
        "outputId": "380f82b1-16c2-47ae-ad78-56e5e8deba43"
      },
      "execution_count": 26,
      "outputs": [
        {
          "output_type": "stream",
          "name": "stdout",
          "text": [
            "\u001b[34m  Stopping...\u001b[0m\n",
            "^C\n"
          ]
        }
      ]
    }
  ]
}